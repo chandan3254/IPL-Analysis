{
  "nbformat": 4,
  "nbformat_minor": 0,
  "metadata": {
    "colab": {
      "private_outputs": true,
      "provenance": [],
      "cell_execution_strategy": "setup",
      "mount_file_id": "1zYCjwd979aGewVp1FD3N9_Ekk9hjOzvE",
      "authorship_tag": "ABX9TyOkzO3f7raLiFQMiXE6b9cP",
      "include_colab_link": true
    },
    "kernelspec": {
      "name": "python3",
      "display_name": "Python 3"
    },
    "language_info": {
      "name": "python"
    }
  },
  "cells": [
    {
      "cell_type": "markdown",
      "metadata": {
        "id": "view-in-github",
        "colab_type": "text"
      },
      "source": [
        "<a href=\"https://colab.research.google.com/github/chandan3254/IPL-Analysis/blob/main/ipl.ipynb\" target=\"_parent\"><img src=\"https://colab.research.google.com/assets/colab-badge.svg\" alt=\"Open In Colab\"/></a>"
      ]
    },
    {
      "cell_type": "markdown",
      "source": [
        "Connect google drive\n"
      ],
      "metadata": {
        "id": "DStUeG-Uc14e"
      }
    },
    {
      "cell_type": "code",
      "source": [
        "from google.colab import drive\n",
        "drive.mount('/content/drive')"
      ],
      "metadata": {
        "id": "ZkU8yii7cHn0"
      },
      "execution_count": null,
      "outputs": []
    },
    {
      "cell_type": "markdown",
      "source": [
        "libraries import(for better represtion of ghraph)"
      ],
      "metadata": {
        "id": "KqcfP7c0c-n2"
      }
    },
    {
      "cell_type": "code",
      "source": [
        "import pandas as pd\n",
        "file_path = '/content/drive/MyDrive/Colab Notebooks/Cricket_data.csv'\n",
        "df = pd.read_csv(file_path)\n",
        "df.head()"
      ],
      "metadata": {
        "id": "GF4eXH9GdWVs"
      },
      "execution_count": null,
      "outputs": []
    },
    {
      "cell_type": "markdown",
      "source": [
        " b\n",
        " Bar chart for the represent  Numbers of matche won by team"
      ],
      "metadata": {
        "id": "pK4XBjctdrd3"
      }
    },
    {
      "cell_type": "code",
      "source": [
        "\n",
        "import pandas as pd\n",
        "import matplotlib.pyplot as plt\n",
        "\n",
        "df = pd.read_csv('/content/drive/MyDrive/Colab Notebooks/Cricket_data.csv')\n",
        "\n",
        "win_counts = df['winner'].value_counts()\n",
        "\n",
        "plt.figure(figsize=(12, 6))\n",
        "win_counts.plot(kind='bar', color='skyblue')\n",
        "plt.title('Number of Matches Won by Each Team')\n",
        "plt.xlabel('Team')\n",
        "plt.ylabel('Matches Won')\n",
        "plt.xticks(rotation=45, ha='right')\n",
        "plt.tight_layout()\n",
        "plt.grid(axis='y', linestyle='--', alpha=0.7)\n",
        "plt.show()"
      ],
      "metadata": {
        "id": "jdaWFVl8gZf5"
      },
      "execution_count": null,
      "outputs": []
    },
    {
      "cell_type": "markdown",
      "source": [
        "Pie chart for represnt the toss win percentage"
      ],
      "metadata": {
        "id": "hBNL54hJlBZ0"
      }
    },
    {
      "cell_type": "code",
      "source": [
        "import pandas as pd\n",
        "import matplotlib.pyplot as plt\n",
        "\n",
        "df = pd.read_csv('/content/drive/MyDrive/Colab Notebooks/Cricket_data.csv')\n",
        "\n",
        "toss_wins = df['toss_won'].value_counts()\n",
        "\n",
        "toss_win_percentage = (toss_wins / toss_wins.sum()) * 100\n",
        "\n",
        "plt.figure(figsize=(10,10))\n",
        "plt.pie(toss_win_percentage, labels=toss_win_percentage.index, autopct='%1.1f%%', startangle=140)\n",
        "plt.title('Toss Win Percentage by Teams')\n",
        "plt.axis('equal')\n",
        "plt.show()"
      ],
      "metadata": {
        "id": "bKXJlaCfndGt"
      },
      "execution_count": null,
      "outputs": []
    },
    {
      "cell_type": "markdown",
      "source": [
        "scatter plot graph for player with the most captincies on their home ground"
      ],
      "metadata": {
        "id": "kSmlkhxIpjus"
      }
    },
    {
      "cell_type": "code",
      "source": [
        "import pandas as pd\n",
        "import matplotlib.pyplot as plt\n",
        "\n",
        "df = pd.read_csv('/content/drive/MyDrive/Colab Notebooks/Cricket_data.csv')\n",
        "\n",
        "home_matches = df['home_team'].value_counts()\n",
        "\n",
        "plt.figure(figsize=(12,6))\n",
        "plt.scatter(home_matches.index, home_matches.values, color='green', s=100)\n",
        "\n",
        "plt.title('Number of Home Matches Played by Each Team')\n",
        "plt.xlabel('Teams')\n",
        "plt.ylabel('Home Matches')\n",
        "plt.xticks(rotation=45)\n",
        "plt.grid(True)\n",
        "plt.tight_layout()\n",
        "\n",
        "plt.show()"
      ],
      "metadata": {
        "id": "Cfa2TRNvpj3S"
      },
      "execution_count": null,
      "outputs": []
    },
    {
      "cell_type": "markdown",
      "source": [
        "Bar ghraph for Toss Decision (batting/Bowling)"
      ],
      "metadata": {
        "id": "UsajeF9R7LLd"
      }
    },
    {
      "cell_type": "code",
      "source": [
        "import pandas as pd\n",
        "import matplotlib.pyplot as plt\n",
        "\n",
        "df = pd.read_csv('/content/drive/MyDrive/Colab Notebooks/Cricket_data.csv')\n",
        "\n",
        "decision_counts = df['decision'].value_counts()\n",
        "\n",
        "plt.figure(figsize=(8,5))\n",
        "plt.bar(decision_counts.index, decision_counts.values, color=['skyblue', 'orange'])\n",
        "\n",
        "plt.title('Match Decision Count: Batting First vs Bowling First')\n",
        "plt.xlabel('Decision Taken')\n",
        "plt.ylabel('Number of Matches')\n",
        "plt.grid(axis='y', linestyle='--', alpha=0.7)\n",
        "\n",
        "plt.show()"
      ],
      "metadata": {
        "id": "Ox-vwgwSrKnv"
      },
      "execution_count": null,
      "outputs": []
    },
    {
      "cell_type": "markdown",
      "source": [
        "A bar chat representing which player has captained the most matches on their home ground"
      ],
      "metadata": {
        "id": "0yUCFgAvtecp"
      }
    },
    {
      "cell_type": "code",
      "source": [
        "import pandas as pd\n",
        "import matplotlib.pyplot as plt\n",
        "\n",
        "df = pd.read_csv('/content/drive/MyDrive/Colab Notebooks/Cricket_data.csv')\n",
        "\n",
        "captain_counts = df['home_captain'].value_counts()\n",
        "total_home_matches = df.shape[0]\n",
        "captain_percent = (captain_counts / total_home_matches) * 100\n",
        "top10_boundaries = team_boundaries.head(10)\n",
        "\n",
        "colors = []\n",
        "for name in captain_percent.index:\n",
        "    if name.lower() == 'ms dhoni':\n",
        "        colors.append('black')\n",
        "    elif name.lower() == 'rohit sharma':\n",
        "        colors.append('blue')\n",
        "    elif name.lower() == 'virat kohli':\n",
        "        colors.append('red')\n",
        "    else:\n",
        "        colors.append('grey')\n",
        "\n",
        "plt.figure(figsize=(12,6))\n",
        "bars = plt.bar(captain_percent.index, captain_percent.values, color=colors)\n",
        "\n",
        "for bar in bars:\n",
        "    height = bar.get_height()\n",
        "    plt.text(bar.get_x() + bar.get_width()/2, height + 0.5,\n",
        "             f'{height:.1f}%', ha='center', fontsize=9)\n",
        "\n",
        "plt.title('Home Ground Captaincy Percentage')\n",
        "plt.xlabel('Captain Name')\n",
        "plt.ylabel('Percentage of Matches as Home Captain')\n",
        "plt.xticks(rotation=45, ha='right')\n",
        "plt.tight_layout()\n",
        "plt.grid(axis='y', linestyle='--', alpha=0.7)\n",
        "\n",
        "plt.show()"
      ],
      "metadata": {
        "id": "HCMuhMHIteuW"
      },
      "execution_count": null,
      "outputs": []
    },
    {
      "cell_type": "markdown",
      "source": [
        "A line chart representing the top 10 teams with the highest boundaries scored"
      ],
      "metadata": {
        "id": "PI1ODFCpvHuG"
      }
    },
    {
      "cell_type": "code",
      "source": [
        "import pandas as pd\n",
        "import matplotlib.pyplot as plt\n",
        "\n",
        "df = pd.read_csv('/content/drive/MyDrive/Colab Notebooks/Cricket_data.csv')\n",
        "\n",
        "team_boundaries = df.groupby('winner')['home_boundaries'].sum().sort_values(ascending=False)\n",
        "\n",
        "top10_boundaries = team_boundaries.head(10)\n",
        "\n",
        "plt.figure(figsize=(10,5))\n",
        "plt.plot(top10_boundaries.index, top10_boundaries.values, marker='o', linestyle='-', color='green')\n",
        "\n",
        "plt.title('Top 10 Teams by Total Boundaries (in Wins)')\n",
        "plt.xlabel('Team Name')\n",
        "plt.ylabel('Total Boundaries in Wins')\n",
        "plt.xticks(rotation=45, ha='right')\n",
        "plt.grid(True)\n",
        "plt.tight_layout()\n",
        "\n",
        "plt.show()"
      ],
      "metadata": {
        "id": "P3syvUM7vH4A"
      },
      "execution_count": null,
      "outputs": []
    }
  ]
}